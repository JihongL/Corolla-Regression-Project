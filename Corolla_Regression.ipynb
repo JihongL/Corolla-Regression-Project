{
 "cells": [
  {
   "cell_type": "code",
   "execution_count": 1,
   "metadata": {
    "collapsed": true
   },
   "outputs": [],
   "source": [
    "%matplotlib inline\n",
    "import numpy as np # Linear Algebra\n",
    "import pandas as pd # Processing\n",
    "import scipy.stats as stats \n",
    "import matplotlib.pyplot as plt # Visualize\n",
    "import statsmodels.formula.api as sm\n",
    "from sklearn import linear_model, metrics\n",
    "from sklearn.model_selection import cross_val_score, train_test_split\n",
    "from statsmodels.sandbox.regression.predstd import wls_prediction_std"
   ]
  },
  {
   "cell_type": "code",
   "execution_count": 2,
   "metadata": {
    "collapsed": true
   },
   "outputs": [],
   "source": [
    "corolla = pd.read_csv('train.csv')\n",
    "corolla_edit = pd.read_csv('train_edit.csv')"
   ]
  },
  {
   "cell_type": "markdown",
   "metadata": {},
   "source": [
    "## Step 1. Domain\n",
    "    - 알고 있는 내용을 먼저"
   ]
  },
  {
   "cell_type": "markdown",
   "metadata": {},
   "source": [
    "Blah blah.. **Parking asssitant랑 ABS, Boardcomputer 이런게 있으면 가격이 올라!**"
   ]
  },
  {
   "cell_type": "code",
   "execution_count": 6,
   "metadata": {
    "scrolled": false
   },
   "outputs": [
    {
     "name": "stdout",
     "output_type": "stream",
     "text": [
      "                            OLS Regression Results                            \n",
      "==============================================================================\n",
      "Dep. Variable:                  Price   R-squared:                       0.806\n",
      "Model:                            OLS   Adj. R-squared:                  0.805\n",
      "Method:                 Least Squares   F-statistic:                     839.2\n",
      "Date:                Mon, 14 Aug 2017   Prob (F-statistic):               0.00\n",
      "Time:                        13:49:40   Log-Likelihood:                -8959.6\n",
      "No. Observations:                1019   AIC:                         1.793e+04\n",
      "Df Residuals:                    1013   BIC:                         1.796e+04\n",
      "Df Model:                           5                                         \n",
      "Covariance Type:            nonrobust                                         \n",
      "=====================================================================================\n",
      "                        coef    std err          t      P>|t|      [0.025      0.975]\n",
      "-------------------------------------------------------------------------------------\n",
      "Intercept          2.178e+04    311.552     69.901      0.000    2.12e+04    2.24e+04\n",
      "Age_08_04          -167.6514      4.347    -38.569      0.000    -176.181    -159.122\n",
      "KM                   -0.0152      0.002     -9.859      0.000      -0.018      -0.012\n",
      "ABS                -607.0640    141.292     -4.297      0.000    -884.322    -329.806\n",
      "Parking_Assistant  -128.6174    929.053     -0.138      0.890   -1951.707    1694.472\n",
      "Boardcomputer      -393.2825    158.546     -2.481      0.013    -704.398     -82.167\n",
      "==============================================================================\n",
      "Omnibus:                      191.523   Durbin-Watson:                   1.454\n",
      "Prob(Omnibus):                  0.000   Jarque-Bera (JB):              813.679\n",
      "Skew:                           0.822   Prob(JB):                    2.05e-177\n",
      "Kurtosis:                       7.057   Cond. No.                     1.45e+06\n",
      "==============================================================================\n",
      "\n",
      "Warnings:\n",
      "[1] Standard Errors assume that the covariance matrix of the errors is correctly specified.\n",
      "[2] The condition number is large, 1.45e+06. This might indicate that there are\n",
      "strong multicollinearity or other numerical problems.\n"
     ]
    }
   ],
   "source": [
    "reg = sm.ols(formula = \"Price ~ Age_08_04 + KM + ABS + Parking_Assistant +Boardcomputer\", data = corolla).fit()\n",
    "print(reg.summary())"
   ]
  },
  {
   "cell_type": "markdown",
   "metadata": {},
   "source": [
    "    - but... negative Coef\n",
    "    - 아~ 2004년 이라서 그런가? 이거랑 이거랑 해보자...\n",
    "\n",
    "### 선정해둔 변수를 쓰기 위해 끼워맞추기를 하고 있음을 깨달음\n",
    "<br>\n",
    "<br>\n",
    "<br>"
   ]
  },
  {
   "cell_type": "markdown",
   "metadata": {},
   "source": [
    "## Step 2. Simple is Best\n",
    "\n",
    "    - 배운거 먼저 써보자\n",
    "    - 결과를 보고 생각하자\n",
    "    - 모든 변수들의 단순회귀를 돌려보자!"
   ]
  },
  {
   "cell_type": "markdown",
   "metadata": {},
   "source": [
    "#### 2 - 1. 상관분석 (독립2표본검정, 윌콕슨의 순위합검정)\n",
    "    - 0, 1로 나뉘어진 변수부터"
   ]
  },
  {
   "cell_type": "code",
   "execution_count": 9,
   "metadata": {
    "collapsed": true
   },
   "outputs": [],
   "source": [
    "def ttest():\n",
    "    true_list = []\n",
    "    wilcox = []\n",
    "    ttestlst = []\n",
    "    for i in keys:\n",
    "        normal_test1 = stats.shapiro(corolla.loc[corolla[i] == 0].Price)\n",
    "        normal_test2 = stats.shapiro(corolla.loc[corolla[i] == 1].Price)\n",
    "        if normal_test1[1] > 0.05 and normal_test2[1] > 0.05:\n",
    "            reg = stats.levene(corolla.loc[corolla[i] == 0].Price,\n",
    "                           corolla.loc[corolla[i] == 1].Price,\n",
    "                           center = 'mean')\n",
    "            if reg.pvalue > 0.05:\n",
    "                ttest = stats.ttest_ind(corolla.loc[corolla[i] == 0].Price,\n",
    "                                       corolla.loc[corolla[i] == 1].Price,\n",
    "                                       equal_var=True)\n",
    "            else:\n",
    "                ttest = stats.ttest_ind(corolla.loc[corolla[i] == 0].Price,\n",
    "                                       corolla.loc[corolla[i] == 1].Price,\n",
    "                                       equal_var=False)\n",
    "            if ttest.pvalue < 0.05:\n",
    "                true_list.append(i)\n",
    "                ttestlst.append(i)\n",
    "        else:\n",
    "            ranksum = stats.ranksums(corolla.loc[corolla[i] == 0].Price,\n",
    "                                       corolla.loc[corolla[i] == 1].Price)\n",
    "            if ranksum.pvalue < 0.05:\n",
    "                true_list.append(i)\n",
    "                wilcox.append(i)\n",
    "    print \n",
    "    print ('독립2표본검정 통과:', ttestlst)\n",
    "    print\n",
    "    print ('순위합검정 통과:', wilcox)"
   ]
  },
  {
   "cell_type": "code",
   "execution_count": 10,
   "metadata": {
    "collapsed": true
   },
   "outputs": [],
   "source": [
    "keys = ['Met_Color', 'Automatic', 'Mfr_Guarantee', 'BOVAG_Guarantee','ABS', 'Airbag_1', 'Airbag_2', 'Airco', 'Automatic_airco',\\\n",
    "        'Boardcomputer', 'CD_Player', 'Central_Lock', 'Powered_Windows', 'Power_Steering', 'Radio', 'Mistlamps', 'Sport_Model',\\\n",
    "        'Backseat_Divider', 'Metallic_Rim', 'Radio_cassette', 'Parking_Assistant', 'Tow_Bar']"
   ]
  },
  {
   "cell_type": "code",
   "execution_count": 11,
   "metadata": {},
   "outputs": [
    {
     "name": "stdout",
     "output_type": "stream",
     "text": [
      "독립2표본검정 통과: []\n",
      "순위합검정 통과: ['Met_Color', 'Automatic', 'Mfr_Guarantee', 'BOVAG_Guarantee', 'ABS', 'Airbag_1', 'Airbag_2', 'Airco', 'Automatic_airco', 'Boardcomputer', 'CD_Player', 'Central_Lock', 'Powered_Windows', 'Mistlamps', 'Backseat_Divider', 'Metallic_Rim', 'Tow_Bar']\n"
     ]
    }
   ],
   "source": [
    "ttest()"
   ]
  },
  {
   "cell_type": "markdown",
   "metadata": {},
   "source": [
    "#### 2 - 2. 더미변수 상관분석 (ANOVA, Kruskal)\n",
    "    - 이어서 다른 CatVal도 검정하고자 함"
   ]
  },
  {
   "cell_type": "code",
   "execution_count": 15,
   "metadata": {
    "scrolled": false
   },
   "outputs": [
    {
     "name": "stdout",
     "output_type": "stream",
     "text": [
      "Fuel_Type ['Petrol', 'CNG', 'Diesel']\n",
      "Fuel_Type Petrol (0.867547869682312, 5.864495199258021e-27) False\n",
      "Fuel_Type CNG (0.9774237871170044, 0.9497301578521729) True\n",
      "Fuel_Type Diesel (0.8096811771392822, 2.2093353535534987e-10) False\n",
      "CC [1600, 16000, 1800, 1995, 1900, 2000, 1587, 1300, 1332, 1398, 1400, 1598]\n",
      "CC 1600 (0.8682585954666138, 3.2426093430318585e-22) False\n",
      "CC 16000 is not accept sharpiro False\n",
      "CC 1800 (0.6740461587905884, 0.0007057987968437374) False\n",
      "CC 1995 is not accept sharpiro False\n",
      "CC 1900 (0.945985734462738, 0.2624093294143677) True\n",
      "CC 2000 (0.7614140510559082, 3.8109995714741274e-10) False\n",
      "CC 1587 is not accept sharpiro False\n",
      "CC 1300 (0.9845906496047974, 0.0483618825674057) False\n",
      "CC 1332 is not accept sharpiro False\n",
      "CC 1398 is not accept sharpiro False\n",
      "CC 1400 (0.8962551951408386, 2.2790230502778286e-07) False\n",
      "CC 1598 is not accept sharpiro False\n",
      "HP [192, 97, 98, 69, 72, 73, 107, 110, 116, 86, 90]\n",
      "HP 192 (0.9846172332763672, 0.978855311870575) True\n",
      "HP 97 (0.8976033926010132, 2.6542343789515144e-07) False\n",
      "HP 98 is not accept sharpiro False\n",
      "HP 69 (0.9467613101005554, 0.21170765161514282) True\n",
      "HP 72 (0.9684447050094604, 0.17278364300727844) True\n",
      "HP 73 is not accept sharpiro True\n",
      "HP 107 (0.9248928427696228, 0.20213133096694946) True\n",
      "HP 110 (0.8696764707565308, 6.923019575283571e-22) False\n",
      "HP 116 (0.8806183338165283, 0.2292068898677826) True\n",
      "HP 86 (0.985805869102478, 0.07035987079143524) True\n",
      "HP 90 (0.9669525027275085, 0.6651040315628052) True\n",
      "Color ['Violet', 'Blue', 'Grey', 'Beige', 'Red', 'Black', 'White', 'Yellow', 'Silver', 'Green']\n",
      "Color Violet is not accept sharpiro True\n",
      "Color Blue (0.8698180913925171, 2.6987930119848347e-12) False\n",
      "Color Grey (0.8714677691459656, 3.0621223872512315e-12) False\n",
      "Color Beige (0.7741674780845642, 0.05421324819326401) True\n",
      "Color Red (0.9225680232048035, 5.692860849393355e-09) False\n",
      "Color Black (0.8882227540016174, 1.5910378792227675e-08) False\n",
      "Color White (0.9656325578689575, 0.6358004808425903) True\n",
      "Color Yellow is not accept sharpiro True\n",
      "Color Silver (0.8361179828643799, 1.4109268420270382e-08) False\n",
      "Color Green (0.9230671525001526, 3.6301989325693285e-07) False\n",
      "Quarterly_Tax [64, 163, 100, 69, 197, 72, 40, 234, 210, 19, 85, 185, 283]\n",
      "Quarterly_Tax 64 (0.7814792394638062, 0.004141699988394976) False\n",
      "Quarterly_Tax 163 is not accept sharpiro False\n",
      "Quarterly_Tax 100 (0.9642386436462402, 0.7655243277549744) True\n",
      "Quarterly_Tax 69 (0.9576596021652222, 3.291989791875949e-09) False\n",
      "Quarterly_Tax 197 (0.9837707877159119, 0.9791102409362793) True\n",
      "Quarterly_Tax 72 is not accept sharpiro True\n",
      "Quarterly_Tax 40 is not accept sharpiro True\n",
      "Quarterly_Tax 234 (0.9133521318435669, 0.23548521101474762) True\n",
      "Quarterly_Tax 210 (0.9206621646881104, 0.43525946140289307) True\n",
      "Quarterly_Tax 19 (0.900469958782196, 0.0005691811675205827) False\n",
      "Quarterly_Tax 85 (0.9184687733650208, 8.37988922366582e-15) False\n",
      "Quarterly_Tax 185 (0.9447469115257263, 0.003582544159144163) False\n",
      "Quarterly_Tax 283 is not accept sharpiro False\n"
     ]
    }
   ],
   "source": [
    "keys_shapiro = ['Fuel_Type', 'CC', 'HP', 'Color', 'Quarterly_Tax']\n",
    "items = []\n",
    "    \n",
    "for j in keys_shapiro:\n",
    "    for i in corolla[j]:\n",
    "        items.append(i)\n",
    "    items = list(set(items))\n",
    "    print(j, items)\n",
    "    for x in items:\n",
    "        try:\n",
    "            sha = stats.shapiro(corolla.loc[corolla[j] == x].Price)\n",
    "            if sha[1] > 0.05:\n",
    "                stat = 'True'\n",
    "            else:\n",
    "                stat = 'False'\n",
    "        except:\n",
    "            sha = 'is not accept sharpiro'\n",
    "        print(j, x, sha, stat)\n",
    "    print \n",
    "    items = []"
   ]
  },
  {
   "cell_type": "markdown",
   "metadata": {},
   "source": [
    "    - 하지만, 모두 정규성을 만족하지 못하여 ANOVA는 하지 못하고\n",
    "    - Kruskal 검정을 함"
   ]
  },
  {
   "cell_type": "code",
   "execution_count": 17,
   "metadata": {},
   "outputs": [
    {
     "name": "stdout",
     "output_type": "stream",
     "text": [
      "Fuel_Type: 0.220929704632\n",
      "CC       : 1.79170275585e-37\n",
      "HP       : 1.19840553322e-50\n",
      "Color    : 6.66321505059e-06\n",
      "Tax      : 5.0934256821e-49\n"
     ]
    }
   ],
   "source": [
    "krus_Fuel = stats.kruskal(corolla.loc[corolla[\"Fuel_Type\"] == 'Petrol'].Price, \n",
    "             corolla.loc[corolla[\"Fuel_Type\"] == 'Diesel'].Price,\n",
    "              corolla.loc[corolla[\"Fuel_Type\"] == 'CNG'].Price)\n",
    "\n",
    "krus_CC = stats.kruskal(corolla.loc[corolla[\"CC\"] == 1600].Price,\n",
    "               corolla.loc[corolla[\"CC\"] == 1800].Price,\n",
    "               corolla.loc[corolla[\"CC\"] == 1995].Price,\n",
    "               corolla.loc[corolla[\"CC\"] == 1900].Price,\n",
    "               corolla.loc[corolla[\"CC\"] == 2000].Price,\n",
    "               corolla.loc[corolla[\"CC\"] == 1587].Price,\n",
    "               corolla.loc[corolla[\"CC\"] == 1300].Price,\n",
    "               corolla.loc[corolla[\"CC\"] == 1398].Price,\n",
    "               corolla.loc[corolla[\"CC\"] == 1400].Price,\n",
    "               corolla.loc[corolla[\"CC\"] == 1332].Price,\n",
    "               corolla.loc[corolla[\"CC\"] == 1598].Price)\n",
    "\n",
    "krus_HP = stats.kruskal(corolla.loc[corolla[\"HP\"] == 192].Price, \n",
    "               corolla.loc[corolla[\"HP\"] == 97].Price,\n",
    "               corolla.loc[corolla[\"HP\"] == 98].Price,\n",
    "               corolla.loc[corolla[\"HP\"] == 69].Price,\n",
    "               corolla.loc[corolla[\"HP\"] == 72].Price,\n",
    "               corolla.loc[corolla[\"HP\"] == 73].Price,\n",
    "               corolla.loc[corolla[\"HP\"] == 107].Price,\n",
    "               corolla.loc[corolla[\"HP\"] == 110].Price,\n",
    "               corolla.loc[corolla[\"HP\"] == 116].Price,\n",
    "               corolla.loc[corolla[\"HP\"] == 86].Price,\n",
    "               corolla.loc[corolla[\"HP\"] == 90].Price)\n",
    "\n",
    "krus_Color = stats.kruskal(corolla.loc[corolla[\"Color\"] == 'Blue'].Price,\n",
    "               corolla.loc[corolla[\"Color\"] == 'Grey'].Price,\n",
    "               corolla.loc[corolla[\"Color\"] == 'Yellow'].Price,\n",
    "               corolla.loc[corolla[\"Color\"] == 'Green'].Price,\n",
    "               corolla.loc[corolla[\"Color\"] == 'Beige'].Price,\n",
    "               corolla.loc[corolla[\"Color\"] == 'Violet'].Price,\n",
    "               corolla.loc[corolla[\"Color\"] == 'Black'].Price,\n",
    "               corolla.loc[corolla[\"Color\"] == 'White'].Price,\n",
    "               corolla.loc[corolla[\"Color\"] == 'Silver'].Price,\n",
    "               corolla.loc[corolla[\"Color\"] == 'Red'].Price)\n",
    "\n",
    "krus_Tax =  stats.kruskal(corolla.loc[corolla[\"Quarterly_Tax\"] == 64].Price,\n",
    "               corolla.loc[corolla[\"Quarterly_Tax\"] == 163].Price,\n",
    "               corolla.loc[corolla[\"Quarterly_Tax\"] == 100].Price,\n",
    "               corolla.loc[corolla[\"Quarterly_Tax\"] == 69].Price,\n",
    "               corolla.loc[corolla[\"Quarterly_Tax\"] == 72].Price,\n",
    "               corolla.loc[corolla[\"Quarterly_Tax\"] == 234].Price,\n",
    "               corolla.loc[corolla[\"Quarterly_Tax\"] == 40].Price,\n",
    "               corolla.loc[corolla[\"Quarterly_Tax\"] == 210].Price,\n",
    "               corolla.loc[corolla[\"Quarterly_Tax\"] == 19].Price,\n",
    "               corolla.loc[corolla[\"Quarterly_Tax\"] == 85].Price,\n",
    "               corolla.loc[corolla[\"Quarterly_Tax\"] == 185].Price,\n",
    "               corolla.loc[corolla[\"Quarterly_Tax\"] == 283].Price,\n",
    "               corolla.loc[corolla[\"Quarterly_Tax\"] == 197].Price)\n",
    "\n",
    "print ('Fuel_Type:', krus_Fuel.pvalue)\n",
    "print ('CC       :', krus_CC.pvalue)\n",
    "print ('HP       :', krus_HP.pvalue)\n",
    "print ('Color    :', krus_Color.pvalue)\n",
    "print ('Tax      :', krus_Tax.pvalue)"
   ]
  },
  {
   "cell_type": "markdown",
   "metadata": {},
   "source": [
    "최종적으로 상관이 있다고 보여지는 CatVal은 총 21가지\n",
    "\n",
    "['Met_Color', 'Automatic', 'Mfr_Guarantee', 'BOVAG_Guarantee', 'ABS', 'Airbag_1', 'Airbag_2', 'Airco', 'Automatic_airco', 'Boardcomputer', 'CD_Player', 'Central_Lock', 'Powered_Windows', 'Mistlamps', 'Backseat_Divider', 'Metallic_Rim', 'Tow_Bar', 'CC',\n",
    "'HP', 'Color', 'Tax']"
   ]
  },
  {
   "cell_type": "markdown",
   "metadata": {},
   "source": [
    "## Step 3. 돌려보자 회귀"
   ]
  },
  {
   "cell_type": "code",
   "execution_count": 19,
   "metadata": {
    "scrolled": false
   },
   "outputs": [
    {
     "name": "stdout",
     "output_type": "stream",
     "text": [
      "Age_08_04\n",
      "P-val : Intercept    0.0\n",
      "Age_08_04    0.0\n",
      "dtype: float64, R-square : 0.7812791675046182\n",
      "\n",
      "Mfg_Month\n",
      "P-val : Intercept    2.266364e-277\n",
      "Mfg_Month     1.580527e-01\n",
      "dtype: float64, R-square : 0.0019584910973186043\n",
      "\n",
      "Mfg_Year\n",
      "P-val : Intercept    0.0\n",
      "Mfg_Year     0.0\n",
      "dtype: float64, R-square : 0.7979884209145617\n",
      "\n",
      "KM\n",
      "P-val : Intercept    0.000000e+00\n",
      "KM           4.210366e-91\n",
      "dtype: float64, R-square : 0.33173205514871207\n",
      "\n",
      "Fuel_Type\n",
      "P-val : Intercept              1.398123e-16\n",
      "Fuel_Type[T.Diesel]    5.365501e-01\n",
      "Fuel_Type[T.Petrol]    6.295832e-01\n",
      "dtype: float64, R-square : 0.0005078030219438645\n",
      "\n",
      "HP\n",
      "P-val : Intercept    8.523346e-05\n",
      "HP           6.828504e-25\n",
      "dtype: float64, R-square : 0.09916091298438501\n",
      "\n",
      "Met_Color\n",
      "P-val : Intercept    3.015852e-283\n",
      "Met_Color     9.492969e-07\n",
      "dtype: float64, R-square : 0.02336105600752314\n",
      "\n",
      "Color\n",
      "P-val : Intercept          0.000013\n",
      "Color[T.Black]     0.241398\n",
      "Color[T.Blue]      0.363353\n",
      "Color[T.Green]     0.611233\n",
      "Color[T.Grey]      0.166696\n",
      "Color[T.Red]       0.642588\n",
      "Color[T.Silver]    0.265750\n",
      "Color[T.Violet]    0.752463\n",
      "Color[T.White]     0.612933\n",
      "Color[T.Yellow]    0.216053\n",
      "dtype: float64, R-square : 0.054795310569090816\n",
      "\n",
      "Automatic\n",
      "P-val : Intercept    0.000000\n",
      "Automatic    0.029815\n",
      "dtype: float64, R-square : 0.0046325363276594755\n",
      "\n",
      "CC\n",
      "P-val : Intercept    1.425694e-104\n",
      "CC            1.165942e-04\n",
      "dtype: float64, R-square : 0.014499827740850901\n",
      "\n",
      "Doors\n",
      "P-val : Intercept    6.822434e-54\n",
      "Doors        6.162838e-09\n",
      "dtype: float64, R-square : 0.03268797458246053\n",
      "\n",
      "Cylinders\n",
      "P-val : Intercept    0.447471\n",
      "Cylinders    0.447471\n",
      "dtype: float64, R-square : -0.010579421317802096\n",
      "\n",
      "Gears\n",
      "P-val : Intercept    0.152854\n",
      "Gears        0.088089\n",
      "dtype: float64, R-square : 0.0028576447792711956\n",
      "\n",
      "Quarterly_Tax\n",
      "P-val : Intercept        8.608478e-174\n",
      "Quarterly_Tax     8.956626e-09\n",
      "dtype: float64, R-square : 0.0319958169493022\n",
      "\n",
      "Weight\n",
      "P-val : Intercept    4.759796e-51\n",
      "Weight       4.179398e-84\n",
      "dtype: float64, R-square : 0.31026556657379867\n",
      "\n",
      "Mfr_Guarantee\n",
      "P-val : Intercept        0.000000e+00\n",
      "Mfr_Guarantee    1.171984e-07\n",
      "dtype: float64, R-square : 0.027233489302386227\n",
      "\n",
      "BOVAG_Guarantee\n",
      "P-val : Intercept          1.219528e-147\n",
      "BOVAG_Guarantee     2.573407e-01\n",
      "dtype: float64, R-square : 0.0012613847127895816\n",
      "\n",
      "Guarantee_Period\n",
      "P-val : Intercept           1.730909e-302\n",
      "Guarantee_Period     9.601092e-08\n",
      "dtype: float64, R-square : 0.027602795804559266\n",
      "\n",
      "ABS\n",
      "P-val : Intercept    2.718652e-168\n",
      "ABS           2.753001e-23\n",
      "dtype: float64, R-square : 0.09264744968647465\n",
      "\n",
      "Airbag_1\n",
      "P-val : Intercept    8.794962e-39\n",
      "Airbag_1     2.251897e-03\n",
      "dtype: float64, R-square : 0.009138478359993263\n",
      "\n",
      "Airbag_2\n",
      "P-val : Intercept    3.340724e-245\n",
      "Airbag_2      2.459599e-15\n",
      "dtype: float64, R-square : 0.0597789968478003\n",
      "\n",
      "Airco\n",
      "P-val : Intercept    0.000000e+00\n",
      "Airco        1.526044e-50\n",
      "dtype: float64, R-square : 0.19741099341490598\n",
      "\n",
      "Automatic_airco\n",
      "P-val : Intercept          0.000000e+00\n",
      "Automatic_airco    1.206108e-98\n",
      "dtype: float64, R-square : 0.35413064509978576\n",
      "\n",
      "Boardcomputer\n",
      "P-val : Intercept         0.000000e+00\n",
      "Boardcomputer    1.336302e-102\n",
      "dtype: float64, R-square : 0.3655762044166969\n",
      "\n",
      "CD_Player\n",
      "P-val : Intercept    0.000000e+00\n",
      "CD_Player    1.586294e-63\n",
      "dtype: float64, R-square : 0.24308175108314722\n",
      "\n",
      "Central_Lock\n",
      "P-val : Intercept       1.060894e-312\n",
      "Central_Lock     9.198233e-33\n",
      "dtype: float64, R-square : 0.13047047579806692\n",
      "\n",
      "Powered_Windows\n",
      "P-val : Intercept          3.359646e-322\n",
      "Powered_Windows     4.265265e-33\n",
      "dtype: float64, R-square : 0.1317752500209668\n",
      "\n",
      "Power_Steering\n",
      "P-val : Intercept         1.869969e-36\n",
      "Power_Steering    3.817941e-02\n",
      "dtype: float64, R-square : 0.004218337915707582\n",
      "\n",
      "Radio\n",
      "P-val : Intercept    0.000000\n",
      "Radio        0.448875\n",
      "dtype: float64, R-square : 0.0005640234503655472\n",
      "\n",
      "Mistlamps\n",
      "P-val : Intercept    0.000000e+00\n",
      "Mistlamps    1.878719e-13\n",
      "dtype: float64, R-square : 0.051856093876217924\n",
      "\n",
      "Sport_Model\n",
      "P-val : Intercept      0.000000e+00\n",
      "Sport_Model    9.597941e-08\n",
      "dtype: float64, R-square : 0.027603403812572647\n",
      "\n",
      "Backseat_Divider\n",
      "P-val : Intercept           2.631168e-232\n",
      "Backseat_Divider     9.612581e-03\n",
      "dtype: float64, R-square : 0.0065747641765201426\n",
      "\n",
      "Metallic_Rim\n",
      "P-val : Intercept       0.000000\n",
      "Metallic_Rim    0.000011\n",
      "dtype: float64, R-square : 0.018766520983724777\n",
      "\n",
      "Radio_cassette\n",
      "P-val : Intercept         0.000000\n",
      "Radio_cassette    0.434162\n",
      "dtype: float64, R-square : 0.000601554967103568\n",
      "\n",
      "Parking_Assistant\n",
      "P-val : Intercept            0.000000\n",
      "Parking_Assistant    0.153071\n",
      "dtype: float64, R-square : 0.002006225243000981\n",
      "\n",
      "Tow_Bar\n",
      "P-val : Intercept    0.000000e+00\n",
      "Tow_Bar      4.854568e-07\n",
      "dtype: float64, R-square : 0.02460202968991787\n",
      "\n"
     ]
    }
   ],
   "source": [
    "keys = []\n",
    "for i in corolla.keys():\n",
    "    keys.append(i)\n",
    "keys = keys[3:]\n",
    "\n",
    "for i in keys:\n",
    "    reg = sm.ols(\"Price ~ \" + i, data = corolla).fit()\n",
    "    print(i)\n",
    "    print('P-val : {}, R-square : {}'.format(reg.pvalues, reg.rsquared))\n",
    "    print()"
   ]
  },
  {
   "cell_type": "markdown",
   "metadata": {},
   "source": [
    "### R-Squared 의 늪"
   ]
  },
  {
   "cell_type": "code",
   "execution_count": 20,
   "metadata": {},
   "outputs": [
    {
     "name": "stdout",
     "output_type": "stream",
     "text": [
      "0.881372169876 8 Variables\n",
      "0.888582406952 9 Variables\n",
      "0.889083885767 12 Variables\n",
      "0.889559582681 13 Variables\n",
      "0.892248196648 14 Variables\n",
      "0.894986958146 16 Variables\n",
      "0.906111523414 33 Variables\n"
     ]
    }
   ],
   "source": [
    "# Set 1, 8개 변수\n",
    "result1 = sm.ols(formula = 'Price ~ \\\n",
    "Mfg_Year + KM + Quarterly_Tax + Weight + Automatic_airco + Boardcomputer +\\\n",
    "CD_Player + Sport_Model', data = corolla).fit()\n",
    "# Set 2, 9개 변수\n",
    "result2 = sm.ols(formula = 'Price ~ \\\n",
    "Age_08_04 + KM + HP + Quarterly_Tax + Weight + ABS + Automatic_airco + \\\n",
    "Powered_Windows + Sport_Model', data = corolla).fit()\n",
    "# Set 3, 12개 변수\n",
    "result3 = sm.ols(formula = 'Price ~ \\\n",
    "Age_08_04 + KM + HP + Doors + Quarterly_Tax + Weight + Automatic_airco + \\\n",
    "Powered_Windows + Sport_Model + Backseat_Divider + Metallic_Rim', data = corolla).fit()\n",
    "# Set 4, 13개 변수\n",
    "result4 = sm.ols(formula = 'Price ~ \\\n",
    "Age_08_04 + KM + HP + Doors + Quarterly_Tax + Weight + Automatic_airco + \\\n",
    "CD_Player + Powered_Windows + Sport_Model + Backseat_Divider + Metallic_Rim', data = corolla).fit()\n",
    "# Set 5, 14개 변수\n",
    "result5 = sm.ols(formula = 'Price ~ \\\n",
    "Mfg_Year + KM + Automatic + Weight + Mfr_Guarantee + ABS + Airco + Automatic_airco +\\\n",
    "Boardcomputer + CD_Player + Central_Lock + Powered_Windows + Mistlamps + Metallic_Rim', data = corolla).fit()\n",
    "# Set 6, 16개 변수\n",
    "result6 = sm.ols(formula = 'Price ~ \\\n",
    "Mfg_Year + KM + Color_Grey + Color_White + Automatic + Weight + Mfr_Guarantee +\\\n",
    "ABS + Airbag_2 + Airco + Automatic_airco + Boardcomputer + CD_Player + Powered_Windows +\\\n",
    "Sport_Model + Metallic_Rim', data = corolla_edit).fit()\n",
    "# Set 7, 33개 변수\n",
    "result7 = sm.ols(formula = 'Price ~ \\\n",
    "Age_08_04 + Mfg_Month + KM + Fuel_Petrol + Fuel_Diesel + HP + Color_Blue + Color_Silver +\\\n",
    "Color_Black + Color_Red + Color_Grey + Color_Green + Color_White + Color_Yellow + Color_Violet +\\\n",
    "Automatic + CC + Doors + Quarterly_Tax + Weight + Mfr_Guarantee + BOVAG_Guarantee + Guarantee_Period +\\\n",
    "ABS + Airbag_2 + Airco + Automatic_airco + Boardcomputer + CD_Player + Powered_Windows +\\\n",
    "Sport_Model + Metallic_Rim + Tow_Bar', data = corolla_edit).fit()\n",
    "\n",
    "print(result1.rsquared_adj, '8 Variables')\n",
    "print (result2.rsquared_adj, '9 Variables')\n",
    "print (result3.rsquared_adj, '12 Variables')\n",
    "print (result4.rsquared_adj, '13 Variables')\n",
    "print (result5.rsquared_adj, '14 Variables')\n",
    "print (result6.rsquared_adj, '16 Variables')\n",
    "print (result7.rsquared_adj, '33 Variables')"
   ]
  },
  {
   "cell_type": "code",
   "execution_count": 21,
   "metadata": {},
   "outputs": [
    {
     "name": "stdout",
     "output_type": "stream",
     "text": [
      "0.909865806378 43 Variables\n"
     ]
    }
   ],
   "source": [
    "result8 = sm.ols(formula = 'Price ~ \\\n",
    "Age_08_04 + Mfg_Month + KM + Fuel_Petrol + Fuel_Diesel + HP + Met_Color + Color_Blue + Color_Silver +\\\n",
    "Color_Black + Color_Red + Color_Grey + Color_Green + Color_White + Color_Yellow + Color_Violet +\\\n",
    "Automatic + CC + Doors + Gears + Quarterly_Tax + Weight + Mfr_Guarantee + BOVAG_Guarantee + Guarantee_Period +\\\n",
    "ABS + Airbag_1 + Airbag_2 + Airco + Automatic_airco + Boardcomputer + CD_Player + Central_Lock + Powered_Windows +\\\n",
    "Power_Steering + Radio + Mistlamps + Sport_Model + Backseat_Divider + Metallic_Rim + Radio_cassette +\\\n",
    "Parking_Assistant + Tow_Bar', data = corolla_edit).fit()\n",
    "\n",
    "print (result8.rsquared, '43 Variables')"
   ]
  },
  {
   "cell_type": "markdown",
   "metadata": {},
   "source": [
    "## Step 4. Back to Basic\n",
    "    - 기존의 모델 중 변수가 10개 이하인 것들로만 회귀분석 진행"
   ]
  },
  {
   "cell_type": "code",
   "execution_count": 22,
   "metadata": {
    "collapsed": true
   },
   "outputs": [],
   "source": [
    "model = linear_model.LinearRegression()\n",
    "car_target = corolla['Price'].copy()"
   ]
  },
  {
   "cell_type": "code",
   "execution_count": 23,
   "metadata": {
    "collapsed": true
   },
   "outputs": [],
   "source": [
    "attributes1 = ['Age_08_04', 'KM', 'HP', 'Quarterly_Tax', 'Weight', 'ABS', 'Automatic_airco', 'Powered_Windows', 'Sport_Model']\n",
    "attributes2 = ['Age_08_04', 'KM', 'Quarterly_Tax', 'Weight', 'Automatic_airco', 'Boardcomputer', 'CD_Player', 'Sport_Model']\n",
    "attributes3 = ['Age_08_04', 'KM', 'Weight', 'Automatic_airco', 'CD_Player']\n",
    "attributes4 = ['Mfg_Year', 'KM', 'Quarterly_Tax', 'Weight', 'Automatic_airco', 'Boardcomputer', 'CD_Player', 'Sport_Model']\n",
    "attributes5 = ['Mfg_Year', 'KM', 'Weight', 'Automatic_airco', 'Boardcomputer', 'CD_Player', 'Sport_Model']\n",
    "attributes6 = ['Mfg_Year', 'KM', 'HP', 'Weight', 'ABS', 'Automatic_airco', 'Central_Lock']\n",
    "attributes7 = ['Age_08_04', 'KM', 'HP', 'Quarterly_Tax', 'Weight', 'ABS', 'Automatic_airco', 'Powered_Windows']\n",
    "attributes8 = ['Mfg_Year', 'Boardcomputer', 'Automatic_airco', 'Weight', 'CD_Player', 'Airco', 'Powered_Windows', 'HP', 'Age_08_04', 'KM']\n",
    "attributes = [attributes1, attributes2, attributes3, attributes4, attributes5, attributes6, attributes7, attributes8]"
   ]
  },
  {
   "cell_type": "code",
   "execution_count": 24,
   "metadata": {},
   "outputs": [
    {
     "name": "stdout",
     "output_type": "stream",
     "text": [
      "\n",
      "Set 1 : 9 variables\n",
      "1386.26057709\n",
      "0.875686153352\n",
      "\n",
      "Set 2 : 8 variables\n",
      "1529.96262426\n",
      "0.848577154734\n",
      "\n",
      "Set 3 : 5 variables\n",
      "1516.27471212\n",
      "0.851274463758\n",
      "\n",
      "Set 4 : 8 variables\n",
      "1478.13779993\n",
      "0.858661783811\n",
      "\n",
      "Set 5 : 7 variables\n",
      "1467.68011926\n",
      "0.860654617403\n",
      "\n",
      "Set 6 : 7 variables\n",
      "1368.12624408\n",
      "0.878917297088\n",
      "\n",
      "Set 7 : 8 variables\n",
      "1380.00025578\n",
      "0.876806415111\n",
      "\n",
      "Set 8 : 10 variables\n",
      "1373.11466859\n",
      "0.878032710462\n",
      "\n"
     ]
    }
   ],
   "source": [
    "def Split(attributes, model):\n",
    "    n = 0\n",
    "    for i in range(len(attributes)):\n",
    "        attribute = attributes[i]\n",
    "        X = attribute\n",
    "        y = corolla['Price']\n",
    "        X = corolla[X]\n",
    "        X_train, X_test, y_train, y_test = train_test_split(X, y, random_state = 1)\n",
    "        n += 1\n",
    "        var = len(attribute)\n",
    "        ScoreCheck(X_train, X_test, y_train, y_test, n, var)\n",
    "    return ''\n",
    "\n",
    "def ScoreCheck(X_train, X_test, y_train, y_test, n, var):\n",
    "    model = linear_model.LinearRegression()\n",
    "    model.fit(X_train, y_train)\n",
    "\n",
    "    predict_y = model.predict(X_test)\n",
    "\n",
    "    # rmse\n",
    "    print()\n",
    "    print ('Set',n,':', var, 'variables')\n",
    "    print (np.sqrt(metrics.mean_squared_error(predict_y, y_test)))\n",
    "    print (model.score(X_test, y_test))\n",
    "    \n",
    "print (Split(attributes, model))"
   ]
  },
  {
   "cell_type": "markdown",
   "metadata": {},
   "source": [
    "    - Set 1, Set 6, Set 7, Set 8 을 최종후보로 선정"
   ]
  },
  {
   "cell_type": "markdown",
   "metadata": {
    "collapsed": true
   },
   "source": [
    "### 다중공선성 확인"
   ]
  },
  {
   "cell_type": "code",
   "execution_count": 25,
   "metadata": {
    "collapsed": true
   },
   "outputs": [],
   "source": [
    "attributes1_data = corolla.loc[:, ['Price', 'Age_08_04', 'KM', 'HP', 'Quarterly_Tax', 'Weight', 'ABS', 'Automatic_airco', 'Powered_Windows', 'Sport_Model']]\n",
    "attributes6_data = corolla.loc[:, ['Price', 'Mfg_Year', 'KM', 'HP', 'Weight', 'ABS', 'Automatic_airco', 'Central_Lock']]\n",
    "attributes7_data = corolla.loc[:, ['Price', 'Age_08_04', 'KM', 'HP', 'Quarterly_Tax', 'Weight', 'ABS', 'Automatic_airco', 'Powered_Windows']]\n",
    "attributes8_data = corolla.loc[:, ['Price', 'Mfg_Year', 'Boardcomputer', 'Automatic_airco', 'Weight', 'CD_Player', 'Airco', 'Powered_Windows', 'HP', 'Age_08_04', 'KM']]\n",
    "attributes_data = [attributes1_data, attributes6_data, attributes7_data, attributes8_data]"
   ]
  },
  {
   "cell_type": "code",
   "execution_count": 26,
   "metadata": {
    "scrolled": false
   },
   "outputs": [
    {
     "name": "stdout",
     "output_type": "stream",
     "text": [
      "<<Set 1>>\n",
      "Age_08_04  VIF =  2.47\n",
      "KM  VIF =  1.81\n",
      "HP  VIF =  1.44\n",
      "Quarterly_Tax  VIF =  2.09\n",
      "Weight  VIF =  2.33\n",
      "ABS  VIF =  1.31\n",
      "Automatic_airco  VIF =  1.48\n",
      "Powered_Windows  VIF =  1.18\n",
      "Sport_Model  VIF =  1.14\n",
      "\n",
      "<<Set 2>>\n",
      "Mfg_Year  VIF =  2.43\n",
      "KM  VIF =  1.72\n",
      "HP  VIF =  1.26\n",
      "Weight  VIF =  1.57\n",
      "ABS  VIF =  1.21\n",
      "Automatic_airco  VIF =  1.4\n",
      "Central_Lock  VIF =  1.18\n",
      "\n",
      "<<Set 3>>\n",
      "Age_08_04  VIF =  2.45\n",
      "KM  VIF =  1.81\n",
      "HP  VIF =  1.43\n",
      "Quarterly_Tax  VIF =  2.09\n",
      "Weight  VIF =  2.32\n",
      "ABS  VIF =  1.24\n",
      "Automatic_airco  VIF =  1.41\n",
      "Powered_Windows  VIF =  1.18\n",
      "\n",
      "<<Set 4>>\n",
      "Mfg_Year  VIF =  33.22\n",
      "Boardcomputer  VIF =  2.24\n",
      "Automatic_airco  VIF =  1.4\n",
      "Weight  VIF =  1.58\n",
      "CD_Player  VIF =  1.49\n",
      "Airco  VIF =  1.65\n",
      "Powered_Windows  VIF =  1.48\n",
      "HP  VIF =  1.28\n",
      "Age_08_04  VIF =  32.74\n",
      "KM  VIF =  1.75\n",
      "\n"
     ]
    }
   ],
   "source": [
    "def vif_cal(input_data, dependent_col):\n",
    "    x_vars=input_data.drop([dependent_col], axis=1)\n",
    "    xvar_names=x_vars.columns\n",
    "    for i in range(0,xvar_names.shape[0]):\n",
    "        y=x_vars[xvar_names[i]] \n",
    "        x=x_vars[xvar_names.drop(xvar_names[i])]\n",
    "        rsq=sm.ols(formula=\"y~x\", data=x_vars).fit().rsquared  \n",
    "        vif=round(1/(1-rsq),2)\n",
    "        print(xvar_names[i], \" VIF = \" , vif)\n",
    "\n",
    "n = 1\n",
    "for i in attributes_data:\n",
    "    print ('<<Set {}>>'.format(n))\n",
    "    vif_cal(input_data=i, dependent_col=\"Price\")\n",
    "    n += 1\n",
    "    print ()"
   ]
  },
  {
   "cell_type": "code",
   "execution_count": 27,
   "metadata": {
    "scrolled": false
   },
   "outputs": [
    {
     "name": "stdout",
     "output_type": "stream",
     "text": [
      "                            OLS Regression Results                            \n",
      "==============================================================================\n",
      "Dep. Variable:                  Price   R-squared:                       0.888\n",
      "Model:                            OLS   Adj. R-squared:                  0.887\n",
      "Method:                 Least Squares   F-statistic:                     1002.\n",
      "Date:                Mon, 14 Aug 2017   Prob (F-statistic):               0.00\n",
      "Time:                        14:08:50   Log-Likelihood:                -8678.2\n",
      "No. Observations:                1019   AIC:                         1.737e+04\n",
      "Df Residuals:                    1010   BIC:                         1.742e+04\n",
      "Df Model:                           8                                         \n",
      "Covariance Type:            nonrobust                                         \n",
      "===================================================================================\n",
      "                      coef    std err          t      P>|t|      [0.025      0.975]\n",
      "-----------------------------------------------------------------------------------\n",
      "Intercept        4116.5320   1189.715      3.460      0.001    1781.937    6451.127\n",
      "Age_08_04        -117.1713      3.200    -36.616      0.000    -123.451    -110.892\n",
      "KM                 -0.0185      0.001    -13.709      0.000      -0.021      -0.016\n",
      "HP                 24.2757      3.077      7.889      0.000      18.238      30.314\n",
      "Quarterly_Tax       6.1064      1.401      4.358      0.000       3.357       8.856\n",
      "Weight             10.4946      1.129      9.297      0.000       8.279      12.710\n",
      "ABS              -302.3014    108.720     -2.781      0.006    -515.644     -88.959\n",
      "Automatic_airco  2570.0265    190.302     13.505      0.000    2196.593    2943.460\n",
      "Powered_Windows   524.5258     83.436      6.287      0.000     360.798     688.254\n",
      "==============================================================================\n",
      "Omnibus:                       59.690   Durbin-Watson:                   1.765\n",
      "Prob(Omnibus):                  0.000   Jarque-Bera (JB):              223.680\n",
      "Skew:                           0.079   Prob(JB):                     2.68e-49\n",
      "Kurtosis:                       5.290   Cond. No.                     2.44e+06\n",
      "==============================================================================\n",
      "\n",
      "Warnings:\n",
      "[1] Standard Errors assume that the covariance matrix of the errors is correctly specified.\n",
      "[2] The condition number is large, 2.44e+06. This might indicate that there are\n",
      "strong multicollinearity or other numerical problems.\n"
     ]
    }
   ],
   "source": [
    "corolla_pick = corolla[['Price', 'Age_08_04', 'KM', 'HP', 'Quarterly_Tax', 'Weight', 'ABS', 'Automatic_airco', 'Powered_Windows']]\n",
    "model = sm.ols(\"Price ~ Age_08_04 + KM + HP + Quarterly_Tax + Weight + ABS + Automatic_airco + Powered_Windows\", corolla_pick).fit()\n",
    "print (model.summary())"
   ]
  },
  {
   "cell_type": "code",
   "execution_count": 28,
   "metadata": {},
   "outputs": [
    {
     "data": {
      "text/plain": [
       "<matplotlib.text.Text at 0x10eae89b0>"
      ]
     },
     "execution_count": 28,
     "metadata": {},
     "output_type": "execute_result"
    },
    {
     "data": {
      "image/png": "[encoded data removed]",
      "text/plain": [
       "<matplotlib.figure.Figure at 0x10d9b1358>"
      ]
     },
     "metadata": {},
     "output_type": "display_data"
    }
   ],
   "source": [
    "corolla_predict = (corolla_pick\n",
    "                  .assign(Predict = lambda x: 4116.5320 + ((-117.1713) * x.Age_08_04) \n",
    "                          + ((-0.0185) * x.KM) \n",
    "                          + ((24.2757) * x.HP) \n",
    "                          + ((6.1064) * x.Quarterly_Tax) \n",
    "                          + ((10.4946) * x.Weight) \n",
    "                          + ((-302.3014) * x.ABS) \n",
    "                          + ((2570.0265) * x.Automatic_airco) \n",
    "                          + ((524.5258) * x.Powered_Windows)))\n",
    "\n",
    "from matplotlib import pyplot as plt\n",
    "%matplotlib inline\n",
    "\n",
    "plt.scatter(x = corolla_predict['Price'], y = corolla_predict['Predict'])\n",
    "plt.ylabel('Predicted prices')\n",
    "plt.xlabel('Prices')\n",
    "plt.title(\"Pices vs Predicted Prices\")"
   ]
  },
  {
   "cell_type": "markdown",
   "metadata": {
    "collapsed": true
   },
   "source": [
    "# Summary"
   ]
  },
  {
   "cell_type": "markdown",
   "metadata": {
    "collapsed": true
   },
   "source": [
    "의의\n",
    "    - 통계학, 파이썬, 머신러닝을 배우면서 각각의 방법론을 적용해볼 수 있었다.\n",
    "    - 무슨 차이가 발생하는지 체험할 수 있는 시간이었음\n",
    "    - 단순히 변수가 많은 것보다 좋은 변수를 적절히 선정하는 것의 중요성을 알 수 있었다.\n",
    "    - 회귀분석의 절차가 어떻게 이뤄지는 지 알 수 있었다\n",
    "    - 체계적인 파일 관리의 중요성을 알 수 있었다\n",
    "    \n",
    "아쉬운 점\n",
    "    - 이상치를 어떻게 처리할 지 시도를 여러번 했으나, 결국 raw data 그대로 진행\n",
    "    - 여러 방법론을 적용해볼 수 있었지만, 그만큼 혼동될 때가 많았다\n",
    "    "
   ]
  }
 ],
 "metadata": {
  "kernelspec": {
   "display_name": "Python 3",
   "language": "python",
   "name": "python3"
  },
  "language_info": {
   "codemirror_mode": {
    "name": "ipython",
    "version": 3
   },
   "file_extension": ".py",
   "mimetype": "text/x-python",
   "name": "python",
   "nbconvert_exporter": "python",
   "pygments_lexer": "ipython3",
   "version": "3.6.1"
  }
 },
 "nbformat": 4,
 "nbformat_minor": 2
}
